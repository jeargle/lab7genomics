{
 "metadata": {
  "name": "",
  "signature": "sha256:b5069a2e34106e6fcab3d592cc13e4189b2d5b2182376f4a1adae2b5ae5090b1"
 },
 "nbformat": 3,
 "nbformat_minor": 0,
 "worksheets": [
  {
   "cells": [
    {
     "cell_type": "code",
     "collapsed": false,
     "input": [
      "import bokeh.plotting as bkp\n",
      "import bokeh.objects as bko\n",
      "from collections import OrderedDict\n",
      "\n",
      "import pandas as pd\n",
      "\n",
      "bkp.output_notebook()"
     ],
     "language": "python",
     "metadata": {},
     "outputs": []
    },
    {
     "cell_type": "heading",
     "level": 2,
     "metadata": {},
     "source": [
      "Functions for Stacking Annotations"
     ]
    },
    {
     "cell_type": "code",
     "collapsed": false,
     "input": [
      "def is_overlapping(range1, range2):\n",
      "    if (range1[1] <= range2[0]):\n",
      "        return False\n",
      "    return True\n",
      "\n",
      "def split_overlapping(rows):\n",
      "    track_levels = [0]*len(rows)   # list of levels for each row\n",
      "    active = []         # list of indices for last placed range\n",
      "    flag = False        # placed or not\n",
      "    \n",
      "    # Check each individual row\n",
      "    for row_idx, row in enumerate(rows):\n",
      "        # Search against active ranges in each level\n",
      "        for l_idx, r_idx in enumerate(active):\n",
      "            if not is_overlapping(rows[r_idx], row):\n",
      "                active[l_idx] = row_idx\n",
      "                track_levels[row_idx] = l_idx\n",
      "                flag = True\n",
      "                break\n",
      "        if not flag:\n",
      "            track_levels[row_idx] = len(active)\n",
      "            active.append(row_idx)\n",
      "        flag = False\n",
      "\n",
      "    return track_levels"
     ],
     "language": "python",
     "metadata": {},
     "outputs": []
    },
    {
     "cell_type": "heading",
     "level": 2,
     "metadata": {},
     "source": [
      "Choose your chromosome!"
     ]
    },
    {
     "cell_type": "code",
     "collapsed": false,
     "input": [
      "target_chr = 'chr17'"
     ],
     "language": "python",
     "metadata": {},
     "outputs": []
    },
    {
     "cell_type": "heading",
     "level": 1,
     "metadata": {},
     "source": [
      "Basic Plot Parameters"
     ]
    },
    {
     "cell_type": "code",
     "collapsed": false,
     "input": [
      "yr = bko.Range1d(start=-10, end=10)\n",
      "\n",
      "bkp.figure(plot_width=800, plot_height=350,\n",
      "            y_range=yr,\n",
      "           tools=\"xpan,xwheel_zoom,hover,reset\")\n",
      "\n",
      "bkp.hold()"
     ],
     "language": "python",
     "metadata": {},
     "outputs": []
    },
    {
     "cell_type": "heading",
     "level": 1,
     "metadata": {},
     "source": [
      "Genes"
     ]
    },
    {
     "cell_type": "heading",
     "level": 2,
     "metadata": {},
     "source": [
      "Data Ingest"
     ]
    },
    {
     "cell_type": "code",
     "collapsed": false,
     "input": [
      "genes = pd.read_csv('data/genes.refseq.hg19.bed', sep='\\t', skiprows=[0], header=None)\n",
      "genes.rename(columns={\n",
      "        0: \"chromosome\",\n",
      "        1: \"start\",\n",
      "        2: \"end\"},\n",
      "    inplace=True\n",
      ")\n",
      "genes = genes[genes.chromosome == target_chr]\n",
      "g_len = len(genes)\n",
      "#genes.head(n=2)"
     ],
     "language": "python",
     "metadata": {},
     "outputs": []
    },
    {
     "cell_type": "heading",
     "level": 2,
     "metadata": {},
     "source": [
      "Plotting"
     ]
    },
    {
     "cell_type": "markdown",
     "metadata": {},
     "source": [
      "Offset to pt2"
     ]
    },
    {
     "cell_type": "code",
     "collapsed": false,
     "input": [
      "bkp.quad(genes.start - 0.5,      # left edge\n",
      "         genes.end - 0.5,        # right edge\n",
      "         [2.3] * g_len,            # top edge\n",
      "         [1.7] * g_len,           # bottom edge\n",
      "         color=['green'] * g_len)"
     ],
     "language": "python",
     "metadata": {},
     "outputs": []
    },
    {
     "cell_type": "heading",
     "level": 1,
     "metadata": {},
     "source": [
      "Exons"
     ]
    },
    {
     "cell_type": "heading",
     "level": 2,
     "metadata": {},
     "source": [
      "Data Ingest"
     ]
    },
    {
     "cell_type": "code",
     "collapsed": false,
     "input": [
      "exons = pd.read_csv('data/exons.refseq.hg19.bed', sep='\\t', skiprows=[0], header=None)\n",
      "exons.columns = [\"chromosome\", \"start\", \"end\", \"meta1\", \"meta2\", \"meta3\"]\n",
      "exons = exons[exons.chromosome == target_chr]\n",
      "e_len = len(exons)\n",
      "#exons.head(n=2)"
     ],
     "language": "python",
     "metadata": {},
     "outputs": []
    },
    {
     "cell_type": "heading",
     "level": 2,
     "metadata": {},
     "source": [
      "Plotting"
     ]
    },
    {
     "cell_type": "markdown",
     "metadata": {},
     "source": [
      "Offset to pt1"
     ]
    },
    {
     "cell_type": "code",
     "collapsed": false,
     "input": [
      "bkp.quad(exons.start - 0.5,      # left edge\n",
      "         exons.end - 0.5,        # right edge\n",
      "         [1.3] * e_len,            # top edge\n",
      "         [0.7] * e_len,         # bottom edge\n",
      "         color=['blue'] * e_len)           "
     ],
     "language": "python",
     "metadata": {},
     "outputs": []
    },
    {
     "cell_type": "heading",
     "level": 1,
     "metadata": {},
     "source": [
      "Hotspots"
     ]
    },
    {
     "cell_type": "heading",
     "level": 2,
     "metadata": {},
     "source": [
      "Data Ingest"
     ]
    },
    {
     "cell_type": "code",
     "collapsed": false,
     "input": [
      "df = pd.read_csv('data/CHP2.20131001.hotspots.bed', sep='\\t', skiprows=[0], header=None)\n",
      "df.columns = [\"chromosome\", \"start\", \"end\", \"meta1\", \"meta2\", \"meta3\"]\n",
      "df[\"level\"] = 0   # column for stacking levels\n",
      "df = df[df.chromosome == target_chr]\n",
      "\n",
      "singles = df[df.start+1 == df.end]\n",
      "widers = df[df.start+1 < df.end]    # ignore 0-width annotations\n",
      "slen = len(singles)\n",
      "wlen = len(widers)"
     ],
     "language": "python",
     "metadata": {},
     "outputs": []
    },
    {
     "cell_type": "heading",
     "level": 2,
     "metadata": {},
     "source": [
      "Calculate stacking levels"
     ]
    },
    {
     "cell_type": "code",
     "collapsed": false,
     "input": [
      "lrows = zip(list(widers.start.values),\n",
      "            list(widers.end.values))\n",
      "\n",
      "track_levels = split_overlapping(lrows)\n",
      "widers[\"level\"] = track_levels"
     ],
     "language": "python",
     "metadata": {},
     "outputs": []
    },
    {
     "cell_type": "heading",
     "level": 2,
     "metadata": {},
     "source": [
      "Plotting"
     ]
    },
    {
     "cell_type": "heading",
     "level": 3,
     "metadata": {},
     "source": [
      "Wider location annotations (indexed from start to end)"
     ]
    },
    {
     "cell_type": "code",
     "collapsed": false,
     "input": [
      "bkp.quad(widers.start - 0.5,      # left edge\n",
      "         widers.end - 0.5,        # right edge\n",
      "         [0.3 - x for x in widers.level.values],            # top edge\n",
      "         [-0.3 - x for x in widers.level.values],           # bottom edge\n",
      "         color=['darkred'] * wlen)"
     ],
     "language": "python",
     "metadata": {},
     "outputs": []
    },
    {
     "cell_type": "heading",
     "level": 3,
     "metadata": {},
     "source": [
      "Singly marked location annotations (centered on a position)"
     ]
    },
    {
     "cell_type": "markdown",
     "metadata": {},
     "source": [
      "offset to pt-1"
     ]
    },
    {
     "cell_type": "code",
     "collapsed": false,
     "input": [
      "s_source = bko.ColumnDataSource(\n",
      "    data = dict(\n",
      "        start=singles.start,\n",
      "        end=singles.end,\n",
      "        meta1=singles.meta1,\n",
      "        meta2=singles.meta2,\n",
      "        meta3=singles.meta3))"
     ],
     "language": "python",
     "metadata": {},
     "outputs": []
    },
    {
     "cell_type": "code",
     "collapsed": false,
     "input": [
      "bkp.rect('start',    # x center\n",
      "         [3]*slen,        # y center\n",
      "         [0.6]*slen,       # width\n",
      "         [1]*slen,         # height\n",
      "         color=['red']*slen,\n",
      "         source=s_source)\n",
      "\n",
      "# See http://bokeh.pydata.org/tutorial/basic.html#hovering-above-the-data\n",
      "hover = [t for t in bkp.curplot().tools if isinstance(t, bko.HoverTool)][0]\n",
      "hover.tooltips = OrderedDict([\n",
      "    # add to this\n",
      "    (\"position\", \"@start\"),\n",
      "    (\"meta 1\", \"@meta1\"),\n",
      "    (\"meta 2\", \"@meta2\"),\n",
      "    (\"meta 3\", \"@meta3\")\n",
      "])"
     ],
     "language": "python",
     "metadata": {},
     "outputs": []
    },
    {
     "cell_type": "code",
     "collapsed": false,
     "input": [
      "bkp.show()"
     ],
     "language": "python",
     "metadata": {},
     "outputs": []
    }
   ],
   "metadata": {}
  }
 ]
}